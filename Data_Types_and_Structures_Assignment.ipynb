{
  "nbformat": 4,
  "nbformat_minor": 0,
  "metadata": {
    "colab": {
      "provenance": []
    },
    "kernelspec": {
      "name": "python3",
      "display_name": "Python 3"
    },
    "language_info": {
      "name": "python"
    }
  },
  "cells": [
    {
      "cell_type": "code",
      "execution_count": null,
      "metadata": {
        "id": "n2bmFux7lzLU"
      },
      "outputs": [],
      "source": [
        "1.  What are data structures, and why are they important\n",
        "\n",
        " Ans: Data structures are specialized formats for organizing, processing, retrieving, and storing data. Think of them as containers that not only hold data but also make it easier to perform operations like searching, sorting, inserting, and deleting.\n",
        "\n",
        "📦 Common Types of Data Structures:\n",
        "Arrays – Fixed-size lists where elements are stored in contiguous memory.\n",
        "\n",
        "Linked Lists – Elements (nodes) connected using pointers; dynamic in size.\n",
        "\n",
        "Stacks – LIFO (Last In, First Out) structure.\n",
        "\n",
        "Queues – FIFO (First In, First Out) structure.\n",
        "\n",
        "Trees – Hierarchical structure (e.g., binary tree, binary search tree).\n",
        "\n",
        "Graphs – Nodes connected by edges; useful in networking and mapping.\n",
        "\n",
        "Hash Tables (Hash Maps) – Store key-value pairs with fast access.\n",
        "\n",
        "💡 Why Data Structures Are Important:\n",
        "Efficiency: The right data structure improves time and space complexity.\n",
        "\n",
        "Faster Processing: Helps in faster retrieval and manipulation of data.\n",
        "\n",
        "Better Problem Solving: Crucial for writing optimized algorithms.\n",
        "\n",
        "Foundation for Programming: Essential for coding, app development, databases, OS, etc.\n",
        "\n",
        "Interview Ready: Most coding interviews test your grasp of data structures.\n",
        "\n",
        "🔧 Real-Life Example:\n",
        "Imagine a contact list on your phone:\n",
        "\n",
        "If stored as an array, searching for a name can be slow.\n",
        "\n",
        "But if stored as a hash table (name as key, number as value), lookup is almost instant."
      ]
    },
    {
      "cell_type": "markdown",
      "source": [
        "2.  Explain the difference between mutable and immutable data types with examples\n",
        "Mutable Data Types\n",
        "Mutable means the value can be changed after the object is created. You can add, remove, or modify the data.\n",
        "\n",
        "Examples:\n",
        "\n",
        "list\n",
        "\n",
        "dictionary (dict)\n",
        "\n",
        "set\n"
      ],
      "metadata": {
        "id": "CHNR-2BvnpyY"
      }
    },
    {
      "cell_type": "code",
      "source": [
        "#Example\n",
        "my_list = [1, 2, 3]\n",
        "my_list.append(4)\n",
        "print(my_list)  # Output: [1, 2, 3, 4]\n"
      ],
      "metadata": {
        "colab": {
          "base_uri": "https://localhost:8080/"
        },
        "id": "fwgcVC5Nn10e",
        "outputId": "553100c6-d67f-4770-be32-79111845cb4b"
      },
      "execution_count": 2,
      "outputs": [
        {
          "output_type": "stream",
          "name": "stdout",
          "text": [
            "[1, 2, 3, 4]\n"
          ]
        }
      ]
    },
    {
      "cell_type": "markdown",
      "source": [
        "Immutable Data Types\n",
        "Immutable means the value cannot be changed after the object is created. Any change creates a new object.\n",
        "\n",
        "Examples:\n",
        "\n",
        "integer (int)\n",
        "\n",
        "float\n",
        "\n",
        "string (str)\n",
        "\n",
        "tuple\n",
        "\n",
        "boolean (bool)\n",
        "\n",
        "Example in Python:"
      ],
      "metadata": {
        "id": "nt_GHgMrn5uk"
      }
    },
    {
      "cell_type": "code",
      "source": [
        "#immutable example\n",
        "name = \"Jeet\"\n",
        "name = name + \" rawat\"\n",
        "print(name)  # Output: Jeet rawat\n"
      ],
      "metadata": {
        "colab": {
          "base_uri": "https://localhost:8080/"
        },
        "id": "dr7YR0QYoAkt",
        "outputId": "60b93d5c-48c4-400a-ef9d-8c86cb64377e"
      },
      "execution_count": 4,
      "outputs": [
        {
          "output_type": "stream",
          "name": "stdout",
          "text": [
            "Jeet rawat\n"
          ]
        }
      ]
    },
    {
      "cell_type": "markdown",
      "source": [
        "3.  What are the main differences between lists and tuples in Python\n",
        "Lists in Python\n",
        "Mutable: You can change, add, or remove elements after creation.\n",
        "\n",
        "Defined using square brackets: [ ]\n",
        "\n",
        "Slower than tuples (because they are flexible).\n",
        "\n",
        "Used when data might change (like a shopping cart or to-do list)."
      ],
      "metadata": {
        "id": "Di2zFSOXoMKZ"
      }
    },
    {
      "cell_type": "code",
      "source": [
        "# Example\n",
        "my_list = [1, 2, 3]\n",
        "my_list.append(4)\n",
        "print(my_list)  # Output: [1, 2, 3, 4]\n"
      ],
      "metadata": {
        "colab": {
          "base_uri": "https://localhost:8080/"
        },
        "id": "nRPWSmLPoeuo",
        "outputId": "9d827380-5f4e-4db3-ca43-e6eb7424f7ee"
      },
      "execution_count": 5,
      "outputs": [
        {
          "output_type": "stream",
          "name": "stdout",
          "text": [
            "[1, 2, 3, 4]\n"
          ]
        }
      ]
    },
    {
      "cell_type": "markdown",
      "source": [
        "Tuples in Python\n",
        "Immutable: Once created, you cannot change the elements.\n",
        "\n",
        "Defined using round brackets: ( )\n",
        "\n",
        "Faster than lists (because they are fixed).\n",
        "\n",
        "Used when data should not change (like coordinates or constants)."
      ],
      "metadata": {
        "id": "vPU7nbB2okha"
      }
    },
    {
      "cell_type": "code",
      "source": [
        "my_tuple = (1, 2, 3)\n",
        "# my_tuple[0] = 5  --> This will give an error\n",
        "print(my_tuple)  # Output: (1, 2, 3)\n"
      ],
      "metadata": {
        "colab": {
          "base_uri": "https://localhost:8080/"
        },
        "id": "aLhezw_toned",
        "outputId": "48b6e85c-c3fd-4a41-d0bc-9aa6d854ece0"
      },
      "execution_count": 6,
      "outputs": [
        {
          "output_type": "stream",
          "name": "stdout",
          "text": [
            "(1, 2, 3)\n"
          ]
        }
      ]
    },
    {
      "cell_type": "markdown",
      "source": [
        "4.  Describe how dictionaries store data\n",
        "\n",
        "What is a Dictionary?\n",
        "A dictionary is a built-in data structure in Python that stores data in key-value pairs.\n",
        "It’s like a real-life dictionary where you search for a word (key) and get its meaning (value).\n",
        "\n",
        "How Does It Store Data?\n",
        "Each item in a dictionary is stored as a pair: key: value\n",
        "\n",
        "The key must be unique and immutable (like a string, number, or tuple)\n",
        "\n",
        "The value can be of any data type and can be duplicated\n",
        "\n",
        "Python uses a technique called hashing to store and access keys quickly\n"
      ],
      "metadata": {
        "id": "csTfsUFvorew"
      }
    },
    {
      "cell_type": "markdown",
      "source": [
        "5.  Why might you use a set instead of a list in Python ?"
      ],
      "metadata": {
        "id": "0QF7s3cypTH6"
      }
    },
    {
      "cell_type": "code",
      "source": [
        "# Uses a Set Instead of a List\n",
        "# To Remove Duplicates\n",
        "my_list = [1, 2, 2, 3, 3, 3]\n",
        "unique_set = set(my_list)\n",
        "print(unique_set)  # Output: {1, 2, 3}\n"
      ],
      "metadata": {
        "colab": {
          "base_uri": "https://localhost:8080/"
        },
        "id": "AL99s3TKpk_J",
        "outputId": "1e616126-61a5-4686-a22f-0e205bd6ee01"
      },
      "execution_count": 7,
      "outputs": [
        {
          "output_type": "stream",
          "name": "stdout",
          "text": [
            "{1, 2, 3}\n"
          ]
        }
      ]
    },
    {
      "cell_type": "code",
      "source": [
        "#Faster Membership Testing\n",
        "# Using list\n",
        "3 in [1, 2, 3, 4]  # Slower\n",
        "\n",
        "# Using set\n",
        "3 in {1, 2, 3, 4}  # Faster\n"
      ],
      "metadata": {
        "colab": {
          "base_uri": "https://localhost:8080/"
        },
        "id": "HLARjJWGp33G",
        "outputId": "0d80323e-3087-4c5e-e679-0025016fa6e0"
      },
      "execution_count": 8,
      "outputs": [
        {
          "output_type": "execute_result",
          "data": {
            "text/plain": [
              "True"
            ]
          },
          "metadata": {},
          "execution_count": 8
        }
      ]
    },
    {
      "cell_type": "code",
      "source": [
        "# Set Operations\n",
        "a = {1, 2, 3}\n",
        "b = {3, 4, 5}\n",
        "\n",
        "print(a.union(b))         # {1, 2, 3, 4, 5}\n",
        "print(a.intersection(b))  # {3}\n",
        "print(a.difference(b))    # {1, 2}\n",
        "\n"
      ],
      "metadata": {
        "colab": {
          "base_uri": "https://localhost:8080/"
        },
        "id": "F8DYrZ6ep-4C",
        "outputId": "626bea0a-9612-4223-88a6-c8ef7cd16b96"
      },
      "execution_count": 9,
      "outputs": [
        {
          "output_type": "stream",
          "name": "stdout",
          "text": [
            "{1, 2, 3, 4, 5}\n",
            "{3}\n",
            "{1, 2}\n"
          ]
        }
      ]
    },
    {
      "cell_type": "markdown",
      "source": [
        "6. What is a string in Python, and how is it different from a list\n",
        "What is a String in Python?\n",
        "A string is a sequence of characters used to store text data.\n",
        "It is written inside single (') or double quotes (\").\n",
        "\n",
        "**What is a List in Python?**\n",
        "A list is a sequence that can store multiple items, including numbers, strings, or even other lists.\n",
        "It is written using square brackets [ ].\n",
        "\n",
        "Main Differences Between String and List\n",
        "Feature\tString\tList\n",
        "Data type\tText (characters)\tAny type (numbers, strings, etc.)\n",
        "Mutable?\tNo (immutable)\tYes (mutable)\n",
        "Syntax\t\"Hello\" or 'Hello'\t[\"H\", \"e\", \"l\", \"l\", \"o\"]\n",
        "Can contain mixed types?\tNo\tYes\n",
        "Can be changed?\tNo (you can’t change one letter directly)\tYes"
      ],
      "metadata": {
        "id": "GAUZCO9xqHza"
      }
    },
    {
      "cell_type": "markdown",
      "source": [
        "7.  How do tuples ensure data integrity in Python ?\n",
        "\n",
        "What is Data Integrity?\n",
        "Data integrity means making sure that data stays unchanged, accurate, and reliable — especially when it shouldn’t be modified by accident.\n",
        "\n",
        "How Do Tuples Ensure Data Integrity?\n",
        "1. Immutability\n",
        "Tuples are immutable, meaning once created, their elements cannot be changed, added, or removed.\n",
        "\n",
        "This ensures that the data remains the same throughout the program.\n",
        " Protects Fixed Data\n",
        "Tuples are perfect for storing fixed collections like:\n",
        "\n",
        "Coordinates (x, y)\n",
        "\n",
        "RGB color values\n",
        "\n",
        "Dates of birth\n",
        "\n",
        "These kinds of data shouldn’t be changed, so using a tuple makes sure they aren’t modified accidentally."
      ],
      "metadata": {
        "id": "mNcJ1zqCrrbH"
      }
    },
    {
      "cell_type": "code",
      "source": [
        "8.  What is a hash table, and how does it relate to dictionaries in Python ?\n",
        "What is a Hash Table?\n",
        "A hash table is a data structure that stores data in key-value pairs, and allows for fast data access using a key.\n",
        "\n",
        "It works like this:\n",
        "\n",
        "You give it a key\n",
        "\n",
        "The key goes through a hash function (which converts it into a number called a \"hash\")\n",
        "\n",
        "The hash tells where to store or find the value in memory\n",
        "\n",
        "This makes searching, inserting, and deleting very fast — usually in constant time (O(1)).\n",
        "\n",
        "How Does It Relate to Dictionaries in Python?\n",
        "In Python, a dictionary is an implementation of a hash table.\n",
        "\n",
        "This means:\n",
        "When you do my_dict[\"name\"], Python uses a hash function to quickly find the value for \"name\"\n",
        "\n",
        "It doesn't need to check each item like a list — it jumps straight to the correct location\n",
        "\n",
        "\n"
      ],
      "metadata": {
        "id": "M49YM38-sGYn"
      },
      "execution_count": null,
      "outputs": []
    },
    {
      "cell_type": "markdown",
      "source": [
        "9.  Can lists contain different data types in Python?\n",
        "\n",
        "Yes, absolutely Jeet! In Python, lists can contain different data types — and that’s one of the cool things about Python lists.\n"
      ],
      "metadata": {
        "id": "YensYXtgsWwS"
      }
    },
    {
      "cell_type": "code",
      "source": [
        "#Example\n",
        "mixed_list = [10, \"Jeet\", 3.14, True, [1, 2, 3], {\"name\": \"Harshit\"}]\n",
        "\n",
        "#This list contains:\n",
        "\n",
        "an integer (10)\n",
        "\n",
        "a string (\"Jeet\")\n",
        "\n",
        "a float (3.14)\n",
        "\n",
        "a boolean (True)\n",
        "\n",
        "another list ([1, 2, 3])\n",
        "\n",
        "a dictionary ({\"name\": \"Harshit\"})\n"
      ],
      "metadata": {
        "id": "2RfyYQCAsvKe"
      },
      "execution_count": 13,
      "outputs": []
    },
    {
      "cell_type": "markdown",
      "source": [
        "10.  Explain why strings are immutable in Python?\n",
        "\n",
        "What Does \"Immutable\" Mean?\n",
        "In Python, immutable means something cannot be changed after it is created.\n",
        "So when we say strings are immutable, it means:\n",
        "\n",
        "👉 Once a string is created, you cannot modify its characters.\n",
        "\n",
        "✅ Why Are Strings Immutable?\n",
        "Here are the main reasons:\n",
        "\n",
        "1. Memory Efficiency\n",
        "Strings are used a lot in programming (names, file paths, messages, etc.).\n",
        "\n",
        "Making them immutable allows Python to reuse memory (called string interning).\n",
        "\n",
        "This saves memory and boosts speed.\n",
        "\n",
        "2. Hashability\n",
        "Immutable objects like strings can be used as keys in dictionaries or elements in sets.\n",
        "\n",
        "Mutable objects like lists cannot be keys, but strings can, thanks to immutability.\n",
        "3.  Data Safety\n",
        "Immutability helps prevent accidental changes in strings, especially in big programs or when shared between functions."
      ],
      "metadata": {
        "id": "cBJzfjJbs-ii"
      }
    },
    {
      "cell_type": "code",
      "source": [
        "11.  What advantages do dictionaries offer over lists for certain tasks ?\n",
        "\n",
        "What Are Dictionaries?\n",
        "A dictionary in Python is a collection of key-value pairs — like a mini database that helps you look up values by a name (key).\n",
        "\n",
        "student = {\"name\": \"Jeet\", \"age\": 21, \"city\": \"Delhi\"}\n",
        "\n",
        "the main advantages of dictionaries over lists:\n",
        "\n",
        "#1. Faster Lookups\n",
        "Dictionary: Looks up values by key almost instantly (O(1) time)\n",
        "\n",
        "List: You have to search through items one by one (O(n) time)\n",
        "\n",
        "Example:\n",
        "# Dictionary\n",
        "person = {\"name\": \"Jeet\"}\n",
        "print(person[\"name\"])  # Fast\n",
        "\n",
        "# List\n",
        "person_list = [[\"name\", \"Jeet\"]]\n",
        "# Have to loop through to find \"name\"\n",
        "\n",
        "#2. Meaningful Access\n",
        "\n",
        "In dictionaries, you access values using descriptive keys.\n",
        "\n",
        "In lists, you use index numbers, which can be confusing.\n",
        "\n",
        "\n",
        "\n",
        "\n",
        "\n",
        "\n"
      ],
      "metadata": {
        "id": "PGhQbxGtt7Dt"
      },
      "execution_count": null,
      "outputs": []
    },
    {
      "cell_type": "markdown",
      "source": [
        "12.  Describe a scenario where using a tuple would be preferable over a list.\n",
        "\n",
        "Scenario: Storing GPS Coordinates (Latitude, Longitude)\n",
        "Imagine you're building a map app and you want to store the location of a user.\n",
        "\n",
        "You could store it like this:"
      ],
      "metadata": {
        "id": "gihJkznsukGL"
      }
    },
    {
      "cell_type": "code",
      "source": [
        "location = (28.6139, 77.2090)  # Tuple (Delhi coordinates)\n"
      ],
      "metadata": {
        "id": "ZH1H9IK7u1Lp"
      },
      "execution_count": 14,
      "outputs": []
    },
    {
      "cell_type": "markdown",
      "source": [
        "13.  How do sets handle duplicate values in Python ?\n",
        "\n",
        "Sets in Python automatically remove duplicate values.\n",
        "\n",
        "When you create a set, any repeated items are automatically filtered out, and only unique elements are kept.\n"
      ],
      "metadata": {
        "id": "y7DMJqOnvBwH"
      }
    },
    {
      "cell_type": "code",
      "source": [
        "#example\n",
        "numbers = {1, 2, 3, 2, 4, 3, 5}\n",
        "print(numbers)\n",
        "\n",
        "#Output\n",
        "{1, 2, 3, 4, 5}\n",
        "\n",
        "#Even though 2 and 3 were added twice, the set only keeps one copy of each.\n"
      ],
      "metadata": {
        "colab": {
          "base_uri": "https://localhost:8080/"
        },
        "id": "WDZDgosFvKmV",
        "outputId": "fb9ceac1-f38f-4513-c53c-4d7e8e2b7109"
      },
      "execution_count": 15,
      "outputs": [
        {
          "output_type": "stream",
          "name": "stdout",
          "text": [
            "{1, 2, 3, 4, 5}\n"
          ]
        },
        {
          "output_type": "execute_result",
          "data": {
            "text/plain": [
              "{1, 2, 3, 4, 5}"
            ]
          },
          "metadata": {},
          "execution_count": 15
        }
      ]
    },
    {
      "cell_type": "markdown",
      "source": [
        "14.  How does the “in” keyword work differently for lists and dictionaries ?\n",
        "\n",
        "The in keyword is used to check if a value exists in a list, dictionary, set, string, etc.\n",
        "\n",
        "But how it behaves depends on the data type you're using it with.\n",
        "\n",
        "\n",
        "\n",
        "\n"
      ],
      "metadata": {
        "id": "v8K7wBbpvdiE"
      }
    },
    {
      "cell_type": "code",
      "source": [
        "#For Lists\n",
        "#When you use in with a list, it checks if the value exists in the list.\n",
        "fruits = [\"apple\", \"banana\", \"mango\"]\n",
        "\n",
        "print(\"banana\" in fruits)  #  True\n",
        "print(\"grape\" in fruits)   #  False\n"
      ],
      "metadata": {
        "colab": {
          "base_uri": "https://localhost:8080/"
        },
        "id": "kR8wN6G1vyoP",
        "outputId": "b8f0f7cc-2f34-45f5-9c29-200b7eba03ea"
      },
      "execution_count": 16,
      "outputs": [
        {
          "output_type": "stream",
          "name": "stdout",
          "text": [
            "True\n",
            "False\n"
          ]
        }
      ]
    },
    {
      "cell_type": "code",
      "source": [
        "#For Dictionaries\n",
        "#When you use in with a dictionary, it checks if the key exists, not the value\n",
        "person = {\"name\": \"Jeet\", \"age\": 21}\n",
        "\n",
        "print(\"name\" in person)   # True → checking key\n",
        "print(\"Jeet\" in person)   # False → value, not key\n",
        "\n",
        "#To check for a value in a dictionary:\n",
        "print(\"Jeet\" in person.values())  # True\n",
        "\n"
      ],
      "metadata": {
        "colab": {
          "base_uri": "https://localhost:8080/"
        },
        "id": "nIyGhOdiv8sG",
        "outputId": "6280db9c-9814-4341-a8df-829b9d19872a"
      },
      "execution_count": 19,
      "outputs": [
        {
          "output_type": "stream",
          "name": "stdout",
          "text": [
            "True\n",
            "False\n",
            "True\n"
          ]
        }
      ]
    },
    {
      "cell_type": "markdown",
      "source": [
        "15.  Can you modify the elements of a tuple? Explain why or why not ?\n",
        "\n",
        "Can You Modify the Elements of a Tuple?\n",
        "No, you cannot modify the elements of a tuple in Python.\n",
        "\n",
        "That’s because tuples are immutable — which means once they are created, they cannot be changed.\n",
        "\n",
        "Why Are Tuples Immutable?\n",
        "Data Safety\n",
        "\n",
        "Once created, the data stays the same — useful for things like coordinates, dates, config data, etc.\n",
        "\n",
        "Hashability\n",
        "\n",
        "Because they're immutable, tuples can be used as keys in dictionaries or elements in sets.\n",
        "\n",
        "Lists can't be used that way.\n",
        "\n",
        "Performance\n",
        "\n",
        "Tuples are a bit faster and use less memory than lists.\n",
        "\n",
        "BUT… There’s a Twist!\n",
        "If a tuple contains a mutable element (like a list inside it), you can modify the inner list, not the tuple itself.\n"
      ],
      "metadata": {
        "id": "0EA5sEQ0x_3q"
      }
    },
    {
      "cell_type": "code",
      "source": [
        "t = (1, 2, [3, 4])\n",
        "t[2][0] = 99\n",
        "print(t)  # Output: (1, 2, [99, 4])\n",
        "\n",
        "#So the tuple itself didn’t change, but the list inside it did.\n",
        "\n",
        "\n"
      ],
      "metadata": {
        "colab": {
          "base_uri": "https://localhost:8080/"
        },
        "id": "8tGwfNX1yVrE",
        "outputId": "7efbe9ae-1296-4021-f9ed-f4e92e246bb9"
      },
      "execution_count": 20,
      "outputs": [
        {
          "output_type": "stream",
          "name": "stdout",
          "text": [
            "(1, 2, [99, 4])\n"
          ]
        }
      ]
    },
    {
      "cell_type": "markdown",
      "source": [
        "16.  What is a nested dictionary, and give an example of its use case ?\n",
        "\n",
        " What is a Nested Dictionary?\n",
        "A nested dictionary is a dictionary inside another dictionary.\n",
        "\n",
        "It allows you to organize complex data in a structured way — like creating a table inside a table.\n",
        "\n",
        "Use Case Example\n",
        "  Student Database in a School App\n",
        "\n",
        "You’re making a school management system. You want to store data for many students, each with their own:\n",
        "\n",
        "Name\n",
        "\n",
        "Age\n",
        "\n",
        "Grade\n",
        "\n",
        "Subjects\n"
      ],
      "metadata": {
        "id": "PC3xFARtyc4z"
      }
    },
    {
      "cell_type": "code",
      "source": [
        "# Example>>use Case\n",
        "\n",
        "school_data = {\n",
        "    \"student1\": {\n",
        "        \"name\": \"Jeet\",\n",
        "        \"class\": \"12th\",\n",
        "        \"marks\": {\n",
        "            \"math\": 88,\n",
        "            \"science\": 92\n",
        "        }\n",
        "    },\n",
        "    \"student2\": {\n",
        "        \"name\": \"Neha\",\n",
        "        \"class\": \"11th\",\n",
        "        \"marks\": {\n",
        "            \"math\": 91,\n",
        "            \"science\": 89\n",
        "        }\n",
        "    }\n",
        "}\n",
        "\n",
        "#Now you can access data like this:\n",
        "\n",
        "print(school_data[\"student1\"][\"marks\"][\"science\"])  # Output: 92\n",
        "\n"
      ],
      "metadata": {
        "colab": {
          "base_uri": "https://localhost:8080/"
        },
        "id": "FmElSjiby0Tp",
        "outputId": "a098faa1-e5e0-4228-e661-9ede019dbfc1"
      },
      "execution_count": 24,
      "outputs": [
        {
          "output_type": "stream",
          "name": "stdout",
          "text": [
            "92\n"
          ]
        }
      ]
    },
    {
      "cell_type": "markdown",
      "source": [
        "17.  Describe the time complexity of accessing elements in a dictionary\n",
        "\n"
      ],
      "metadata": {
        "id": "kj3YOoN8zIGT"
      }
    },
    {
      "cell_type": "code",
      "source": [
        "#Accessing Elements in a Dictionary\n",
        "#When you do something like:\n",
        "\n",
        "person = {\"name\": \"Jeet\", \"age\": 21}\n",
        "print(person[\"name\"])  # Accessing the value by key\n",
        " #You’re accessing a value using a key — and Python dictionaries are really fast at this.\n",
        "\n"
      ],
      "metadata": {
        "colab": {
          "base_uri": "https://localhost:8080/"
        },
        "id": "mhwOC9f6zS-Q",
        "outputId": "f2c0f1fb-c95d-40a9-dc62-a504a1a1aa2a"
      },
      "execution_count": 25,
      "outputs": [
        {
          "output_type": "stream",
          "name": "stdout",
          "text": [
            "Jeet\n"
          ]
        }
      ]
    },
    {
      "cell_type": "markdown",
      "source": [
        "18.  In what situations are lists preferred over dictionaries ?\n",
        "\n",
        "When Should You Use a List Instead of a Dictionary?\n",
        "You should prefer lists over dictionaries when:\n",
        "\n",
        "1. You Only Need to Store Ordered Items\n",
        "Lists maintain the order of items.\n",
        "\n",
        "2. You Want to Loop Over Items in Order\n",
        "Lists are great when you want to process data in sequence.\n",
        "\n",
        "3. You Have Simple, Linear Data\n",
        "Like names, numbers, to-do items, etc.\n",
        "\n",
        "If you don’t need key–value pairs, a list is cleaner and simpler.\n"
      ],
      "metadata": {
        "id": "Dq_0UF17zcjo"
      }
    },
    {
      "cell_type": "markdown",
      "source": [
        "19.  Why are dictionaries considered unordered, and how does that affect data retrieval ?\n",
        "\n",
        "Why Are Dictionaries Considered Unordered?\n",
        "Earlier versions of Python (before 3.7) didn’t keep the insertion order of key-value pairs in dictionaries. So when you added items to a dictionary, they could come out in a completely different order.\n",
        "\n",
        "That’s why dictionaries were traditionally considered unordered.\n",
        "\n",
        "How Does That Affect Data Retrieval?\n",
        "You can’t retrieve values by position/index like a list.\n",
        "\n",
        "You must retrieve them using the exact key:\n",
        "print(info[\"city\"])  #  Correct\n",
        "print(info[1])       #  Error! Dictionaries don’t use indexes\n"
      ],
      "metadata": {
        "id": "tQynkf75z1He"
      }
    },
    {
      "cell_type": "markdown",
      "source": [
        "20.  Explain the difference between a list and a dictionary in terms of data retrieval.\n",
        "\n",
        "#List: Data Retrieval by Index (Position)\n",
        "Lists store items in a specific order.\n",
        "\n",
        "You retrieve data by using index numbers (starting from 0).\n",
        "\n",
        "#Dictionary: Data Retrieval by Key (Label)\n",
        "Dictionaries store key–value pairs.\n",
        "\n",
        "You retrieve data using the key, not the position.\n",
        "\n"
      ],
      "metadata": {
        "id": "kcFbSh3h0SFp"
      }
    },
    {
      "cell_type": "markdown",
      "source": [
        "## ** Practical Questions**\n"
      ],
      "metadata": {
        "id": "s-f0tdHG0rtQ"
      }
    },
    {
      "cell_type": "code",
      "source": [
        "1.  #Write a code to create a string with your name and print it\n",
        "\n",
        "# Creating a string with my name\n",
        "name = \"Jeet\"\n",
        "\n",
        "# Printing the string\n",
        "print(name)\n"
      ],
      "metadata": {
        "colab": {
          "base_uri": "https://localhost:8080/"
        },
        "id": "hlWqPMo50xEd",
        "outputId": "d96e932a-9d0c-42de-9806-ec10c2ba5e20"
      },
      "execution_count": 27,
      "outputs": [
        {
          "output_type": "stream",
          "name": "stdout",
          "text": [
            "Jeet\n"
          ]
        }
      ]
    },
    {
      "cell_type": "code",
      "source": [
        "#2.  Write a code to find the length of the string \"Hello World\"\n",
        "\n",
        "# String\n",
        "text = \"Hello World\"\n",
        "\n",
        "# Finding the length\n",
        "length = len(text)\n",
        "\n",
        "# Printing the length\n",
        "print(length)\n"
      ],
      "metadata": {
        "colab": {
          "base_uri": "https://localhost:8080/"
        },
        "id": "zgX-opoM1Ddv",
        "outputId": "aed5b7a7-33c1-47ef-b3ba-ae8bbfbeb6c7"
      },
      "execution_count": 28,
      "outputs": [
        {
          "output_type": "stream",
          "name": "stdout",
          "text": [
            "11\n"
          ]
        }
      ]
    },
    {
      "cell_type": "code",
      "source": [
        "#3.  Write a code to slice the first 3 characters from the string \"Python Programming\"\n",
        "\n",
        "# Original string\n",
        "text = \"Python Programming\"\n",
        "\n",
        "# Slicing the first 3 characters\n",
        "sliced_text = text[:3]\n",
        "\n",
        "# Printing the result\n",
        "print(sliced_text)\n"
      ],
      "metadata": {
        "colab": {
          "base_uri": "https://localhost:8080/"
        },
        "id": "q-EHpiVr1OUf",
        "outputId": "9296c1b3-af1d-4436-c65c-63e111020e40"
      },
      "execution_count": 29,
      "outputs": [
        {
          "output_type": "stream",
          "name": "stdout",
          "text": [
            "Pyt\n"
          ]
        }
      ]
    },
    {
      "cell_type": "code",
      "source": [
        "#4.  Write a code to convert the string \"hello\" to uppercase\n",
        "\n",
        "# Original string\n",
        "text = \"hello\"\n",
        "\n",
        "# Converting to uppercase\n",
        "uppercase_text = text.upper()\n",
        "\n",
        "# Printing the result\n",
        "print(uppercase_text)\n"
      ],
      "metadata": {
        "colab": {
          "base_uri": "https://localhost:8080/"
        },
        "id": "3DDg9pyq1Y4i",
        "outputId": "2b36af36-39ed-4714-8b54-6e7bcb389b7b"
      },
      "execution_count": 30,
      "outputs": [
        {
          "output_type": "stream",
          "name": "stdout",
          "text": [
            "HELLO\n"
          ]
        }
      ]
    },
    {
      "cell_type": "code",
      "source": [
        "#5.  Write a code to replace the word \"apple\" with \"orange\" in the string \"I like apple\"\n",
        "\n",
        "# Original string\n",
        "text = \"I like apple\"\n",
        "\n",
        "# Replacing 'apple' with 'orange'\n",
        "new_text = text.replace(\"apple\", \"orange\")\n",
        "\n",
        "# Printing the result\n",
        "print(new_text)\n",
        "\n"
      ],
      "metadata": {
        "colab": {
          "base_uri": "https://localhost:8080/"
        },
        "id": "8AdqGJyt1mH9",
        "outputId": "706097b3-da0c-462d-c6f9-b0396a870392"
      },
      "execution_count": 31,
      "outputs": [
        {
          "output_type": "stream",
          "name": "stdout",
          "text": [
            "I like orange\n"
          ]
        }
      ]
    },
    {
      "cell_type": "code",
      "source": [
        "#6.   Write a code to create a list with numbers 1 to 5 and print it\n",
        "# Creating a list with numbers 1 to 5\n",
        "numbers = [1, 2, 3, 4, 5]\n",
        "\n",
        "# Printing the list\n",
        "print(numbers)\n",
        "\n",
        "\n"
      ],
      "metadata": {
        "colab": {
          "base_uri": "https://localhost:8080/"
        },
        "id": "5zsa3S7-19h1",
        "outputId": "0d9261e6-6213-4f0d-cbca-49f4e5f4fdc3"
      },
      "execution_count": 32,
      "outputs": [
        {
          "output_type": "stream",
          "name": "stdout",
          "text": [
            "[1, 2, 3, 4, 5]\n"
          ]
        }
      ]
    },
    {
      "cell_type": "code",
      "source": [
        "#7.  Write a code to append the number 10 to the list [1, 2, 3, 4]\n",
        "\n",
        "# Original list\n",
        "numbers = [1, 2, 3, 4]\n",
        "\n",
        "# Appending 10 to the list\n",
        "numbers.append(10)\n",
        "\n",
        "# Printing the updated list\n",
        "print(numbers)\n"
      ],
      "metadata": {
        "colab": {
          "base_uri": "https://localhost:8080/"
        },
        "id": "kLUQRooM2Qfu",
        "outputId": "09b9f341-5183-4f58-bbb1-ebc39abb8e43"
      },
      "execution_count": 33,
      "outputs": [
        {
          "output_type": "stream",
          "name": "stdout",
          "text": [
            "[1, 2, 3, 4, 10]\n"
          ]
        }
      ]
    },
    {
      "cell_type": "code",
      "source": [
        "#8.  Write a code to remove the number 3 from the list [1, 2, 3, 4, 5]\n",
        "# Original list\n",
        "numbers = [1, 2, 3, 4, 5]\n",
        "\n",
        "# Removing the number 3\n",
        "numbers.remove(3)\n",
        "\n",
        "# Printing the updated list\n",
        "print(numbers)\n",
        "\n"
      ],
      "metadata": {
        "colab": {
          "base_uri": "https://localhost:8080/"
        },
        "id": "J8-LpJsx2XGd",
        "outputId": "5935e65b-6115-4ddc-eaa1-30fbc0e196d6"
      },
      "execution_count": 34,
      "outputs": [
        {
          "output_type": "stream",
          "name": "stdout",
          "text": [
            "[1, 2, 4, 5]\n"
          ]
        }
      ]
    },
    {
      "cell_type": "code",
      "source": [
        "#9.  Write a code to access the second element in the list ['a', 'b', 'c', 'd']\n",
        "# List of characters\n",
        "letters = ['a', 'b', 'c', 'd']\n",
        "\n",
        "# Accessing the second element (index 1)\n",
        "second_element = letters[1]\n",
        "\n",
        "# Printing the result\n",
        "print(second_element)\n",
        "\n"
      ],
      "metadata": {
        "colab": {
          "base_uri": "https://localhost:8080/"
        },
        "id": "KSlGWH-W2fbH",
        "outputId": "9e9cd486-03b7-4fe3-f9ad-bdc2dae687df"
      },
      "execution_count": 35,
      "outputs": [
        {
          "output_type": "stream",
          "name": "stdout",
          "text": [
            "b\n"
          ]
        }
      ]
    },
    {
      "cell_type": "code",
      "source": [
        "#10.  Write a code to reverse the list [10, 20, 30, 40, 50].\n",
        "\n",
        "# Original list\n",
        "numbers = [10, 20, 30, 40, 50]\n",
        "\n",
        "# Reversing the list\n",
        "numbers.reverse()\n",
        "\n",
        "# Printing the reversed list\n",
        "print(numbers)\n"
      ],
      "metadata": {
        "colab": {
          "base_uri": "https://localhost:8080/"
        },
        "id": "fM2ImR2m2ySF",
        "outputId": "5e18b8a8-c4ec-4d91-85eb-8f358cc2a96f"
      },
      "execution_count": 36,
      "outputs": [
        {
          "output_type": "stream",
          "name": "stdout",
          "text": [
            "[50, 40, 30, 20, 10]\n"
          ]
        }
      ]
    },
    {
      "cell_type": "code",
      "source": [
        "#11. Write a code to create a tuple with the elements 100, 200, 300 and print it.\n",
        "\n",
        "# Creating a tuple\n",
        "numbers = (100, 200, 300)\n",
        "\n",
        "# Printing the tuple\n",
        "print(numbers)\n",
        "\n"
      ],
      "metadata": {
        "colab": {
          "base_uri": "https://localhost:8080/"
        },
        "id": "JpUeqzxg2-Eh",
        "outputId": "6acd83b7-007b-463f-aaa2-271eee9fd393"
      },
      "execution_count": 37,
      "outputs": [
        {
          "output_type": "stream",
          "name": "stdout",
          "text": [
            "(100, 200, 300)\n"
          ]
        }
      ]
    },
    {
      "cell_type": "code",
      "source": [
        "# 12. Write a code to access the second-to-last element of the tuple ('red', 'green', 'blue', 'yellow').\n",
        "\n",
        "# Tuple of colors\n",
        "colors = ('red', 'green', 'blue', 'yellow')\n",
        "\n",
        "# Accessing the second-to-last element\n",
        "second_last = colors[-2]\n",
        "\n",
        "# Printing the result\n",
        "print(second_last)\n"
      ],
      "metadata": {
        "colab": {
          "base_uri": "https://localhost:8080/"
        },
        "id": "MpCf9lLd3Hgn",
        "outputId": "d68447ff-154b-414f-c8ab-2f7d3b504d22"
      },
      "execution_count": 38,
      "outputs": [
        {
          "output_type": "stream",
          "name": "stdout",
          "text": [
            "blue\n"
          ]
        }
      ]
    },
    {
      "cell_type": "code",
      "source": [
        "# 13. Write a code to find the minimum number in the tuple (10, 20, 5, 15).\n",
        "\n",
        "tup = (10, 20, 5, 15)\n",
        "min_num = min(tup)\n",
        "print(min_num)"
      ],
      "metadata": {
        "colab": {
          "base_uri": "https://localhost:8080/"
        },
        "id": "sHUacsxk3Pbw",
        "outputId": "4a1e649d-e183-4d4c-f115-d2a8f77dcc63"
      },
      "execution_count": 39,
      "outputs": [
        {
          "output_type": "stream",
          "name": "stdout",
          "text": [
            "5\n"
          ]
        }
      ]
    },
    {
      "cell_type": "code",
      "source": [
        "# 14. Write a code to find the index of the element \"cat\" in the tuple ('dog', 'cat', 'rabbit').\n",
        "\n",
        "tuple = ('dog', 'cat', 'rabbit')\n",
        "print(tuple.index('cat'))"
      ],
      "metadata": {
        "colab": {
          "base_uri": "https://localhost:8080/"
        },
        "id": "sxf6ttSP3YJv",
        "outputId": "e5a90873-6289-4a55-f417-04ac834f06dc"
      },
      "execution_count": 40,
      "outputs": [
        {
          "output_type": "stream",
          "name": "stdout",
          "text": [
            "1\n"
          ]
        }
      ]
    },
    {
      "cell_type": "code",
      "source": [
        "# 15. Write a code to create a tuple containing three different fruits and check if \"kiwi\" is in it.\n",
        "\n",
        "# Creating a tuple with fruits\n",
        "fruits = (\"apple\", \"banana\", \"mango\")\n",
        "\n",
        "# Checking if \"kiwi\" is in the tuple\n",
        "if \"kiwi\" in fruits:\n",
        "    print(\"Kiwi is in the tuple.\")\n",
        "else:\n",
        "    print(\"Kiwi is not in the tuple.\")\n"
      ],
      "metadata": {
        "colab": {
          "base_uri": "https://localhost:8080/"
        },
        "id": "e2MA5ZQG3g4p",
        "outputId": "5a22d60a-e806-406f-e606-3e728f3c1612"
      },
      "execution_count": 41,
      "outputs": [
        {
          "output_type": "stream",
          "name": "stdout",
          "text": [
            "Kiwi is not in the tuple.\n"
          ]
        }
      ]
    },
    {
      "cell_type": "code",
      "source": [
        "# 16. Write a code to create a set with the elements 'a', 'b', 'c' and print it.\n",
        "\n",
        "# Creating a set\n",
        "letters = {'a', 'b', 'c'}\n",
        "\n",
        "# Printing the set\n",
        "print(letters)\n",
        "\n"
      ],
      "metadata": {
        "colab": {
          "base_uri": "https://localhost:8080/"
        },
        "id": "wzlw6bUF3qsp",
        "outputId": "58df37ae-aa80-442c-db75-5dffe04a56c3"
      },
      "execution_count": 42,
      "outputs": [
        {
          "output_type": "stream",
          "name": "stdout",
          "text": [
            "{'b', 'c', 'a'}\n"
          ]
        }
      ]
    },
    {
      "cell_type": "code",
      "source": [
        "# 17. Write a code to clear all elements from the set {1, 2, 3, 4, 5}.\n",
        "\n",
        "# Original set\n",
        "numbers = {1, 2, 3, 4, 5}\n",
        "\n",
        "# Clearing all elements from the set\n",
        "numbers.clear()\n",
        "\n",
        "# Printing the empty set\n",
        "print(numbers)\n",
        "\n"
      ],
      "metadata": {
        "colab": {
          "base_uri": "https://localhost:8080/"
        },
        "id": "RekabAZz3yBX",
        "outputId": "0357d05a-6966-425e-d84a-1e311913891e"
      },
      "execution_count": 43,
      "outputs": [
        {
          "output_type": "stream",
          "name": "stdout",
          "text": [
            "set()\n"
          ]
        }
      ]
    },
    {
      "cell_type": "code",
      "source": [
        "# 18. Write a code to remove the element 4 from the set {1, 2, 3, 4}.\n",
        "\n",
        "# Original set\n",
        "numbers = {1, 2, 3, 4}\n",
        "\n",
        "# Removing the element 4\n",
        "numbers.remove(4)\n",
        "\n",
        "# Printing the updated set\n",
        "print(numbers)\n",
        "\n"
      ],
      "metadata": {
        "colab": {
          "base_uri": "https://localhost:8080/"
        },
        "id": "hmrRfQ9V34F-",
        "outputId": "533c98a5-bc67-44d4-9231-996a993f73f8"
      },
      "execution_count": 44,
      "outputs": [
        {
          "output_type": "stream",
          "name": "stdout",
          "text": [
            "{1, 2, 3}\n"
          ]
        }
      ]
    },
    {
      "cell_type": "code",
      "source": [
        "# 19. Write a code to find the union of two sets {1, 2, 3} and {3, 4, 5}.\n",
        "\n",
        "# Defining two sets\n",
        "set1 = {1, 2, 3}\n",
        "set2 = {3, 4, 5}\n",
        "\n",
        "# Finding the union\n",
        "union_set = set1.union(set2)\n",
        "\n",
        "# Printing the result\n",
        "print(union_set)\n"
      ],
      "metadata": {
        "colab": {
          "base_uri": "https://localhost:8080/"
        },
        "id": "lk0hZGt_4BPI",
        "outputId": "c97e1787-33ca-4dd4-a3df-a1c04b2b8939"
      },
      "execution_count": 46,
      "outputs": [
        {
          "output_type": "stream",
          "name": "stdout",
          "text": [
            "{1, 2, 3, 4, 5}\n"
          ]
        }
      ]
    },
    {
      "cell_type": "code",
      "source": [
        "# 20. Write a code to find the intersection of two sets {1, 2, 3} and {2, 3, 4}.\n",
        "\n",
        "# Defining two sets\n",
        "set1 = {1, 2, 3}\n",
        "set2 = {2, 3, 4}\n",
        "\n",
        "# Finding the intersection\n",
        "intersection_set = set1.intersection(set2)\n",
        "\n",
        "# Printing the result\n",
        "print(intersection_set)\n",
        "\n"
      ],
      "metadata": {
        "colab": {
          "base_uri": "https://localhost:8080/"
        },
        "id": "pI53YYWg4MV5",
        "outputId": "f2b7958a-2467-46e5-a967-1e288c5881d7"
      },
      "execution_count": 47,
      "outputs": [
        {
          "output_type": "stream",
          "name": "stdout",
          "text": [
            "{2, 3}\n"
          ]
        }
      ]
    },
    {
      "cell_type": "code",
      "source": [
        "# 21. Write a code to create a dictionary with the keys \"name\", \"age\", and \"city\", and print it.\n",
        "\n",
        "# Creating a dictionary\n",
        "person = {\n",
        "    \"name\": \"Jeet\",\n",
        "    \"age\": 19,\n",
        "    \"city\": \"Almora\"\n",
        "}\n",
        "\n",
        "# Printing the dictionary\n",
        "print(person)\n",
        "\n"
      ],
      "metadata": {
        "colab": {
          "base_uri": "https://localhost:8080/"
        },
        "id": "MDcK4_nU4XB7",
        "outputId": "e0681486-7878-4895-e0b4-14117a035213"
      },
      "execution_count": 49,
      "outputs": [
        {
          "output_type": "stream",
          "name": "stdout",
          "text": [
            "{'name': 'Jeet', 'age': 19, 'city': 'Almora'}\n"
          ]
        }
      ]
    },
    {
      "cell_type": "code",
      "source": [
        "# 22. Write a code to add a new key-value pair \"country\": \"USA\" to the dictionary {'name': 'John', 'age': 25}.\n",
        "\n",
        "# Original dictionary\n",
        "person = {'name': 'John', 'age': 25}\n",
        "\n",
        "# Adding a new key-value pair\n",
        "person['country'] = 'USA'\n",
        "\n",
        "# Printing the updated dictionary\n",
        "print(person)\n"
      ],
      "metadata": {
        "colab": {
          "base_uri": "https://localhost:8080/"
        },
        "id": "HdLmBnMC4sYN",
        "outputId": "9b4a3cba-3fe6-41a0-83e3-e94aa15cf0e2"
      },
      "execution_count": 50,
      "outputs": [
        {
          "output_type": "stream",
          "name": "stdout",
          "text": [
            "{'name': 'John', 'age': 25, 'country': 'USA'}\n"
          ]
        }
      ]
    },
    {
      "cell_type": "code",
      "source": [
        "# 23. Write a code to access the value associated with the key \"name\" in the dictionary {'name': 'Alice', 'age': 30}.\n",
        "\n",
        "# Dictionary\n",
        "person = {'name': 'Alice', 'age': 30}\n",
        "\n",
        "# Accessing the value of the \"name\" key\n",
        "name_value = person['name']\n",
        "\n",
        "# Printing the value\n",
        "print(name_value)\n"
      ],
      "metadata": {
        "colab": {
          "base_uri": "https://localhost:8080/"
        },
        "id": "IO5a5Orx44rx",
        "outputId": "adfe0ee8-e133-415a-942f-37695662ecf0"
      },
      "execution_count": 51,
      "outputs": [
        {
          "output_type": "stream",
          "name": "stdout",
          "text": [
            "Alice\n"
          ]
        }
      ]
    },
    {
      "cell_type": "code",
      "source": [
        "# 24. Write a code to remove the key \"age\" from the dictionary {'name': 'Bob', 'age': 22, 'city': 'New York'}.\n",
        "\n",
        "# Original dictionary\n",
        "person = {'name': 'Bob', 'age': 22, 'city': 'New York'}\n",
        "\n",
        "# Removing the \"age\" key\n",
        "del person['age']\n",
        "\n",
        "# Printing the updated dictionary\n",
        "print(person)\n",
        "\n"
      ],
      "metadata": {
        "colab": {
          "base_uri": "https://localhost:8080/"
        },
        "id": "h_MIcHKR4_d9",
        "outputId": "78250637-bc21-405c-cee1-be6aaffd2593"
      },
      "execution_count": 52,
      "outputs": [
        {
          "output_type": "stream",
          "name": "stdout",
          "text": [
            "{'name': 'Bob', 'city': 'New York'}\n"
          ]
        }
      ]
    },
    {
      "cell_type": "code",
      "source": [
        "# 25. Write a code to check if the key \"city\" exists in the dictionary {'name': 'Alice', 'city': 'Paris'}.\n",
        "\n",
        "dict = {'name': 'Alice', 'city': 'Paris'}\n",
        "\n",
        "if 'city' in dict:\n",
        "    print(\"The key 'city' exists in the dictionary.\")\n",
        "else:\n",
        "    print(\"The key 'city' does not exist in the dictionary.\")"
      ],
      "metadata": {
        "colab": {
          "base_uri": "https://localhost:8080/"
        },
        "id": "M-Fszf665GXi",
        "outputId": "db9caa26-f733-4d91-bf6f-a3b1b93b7f65"
      },
      "execution_count": 53,
      "outputs": [
        {
          "output_type": "stream",
          "name": "stdout",
          "text": [
            "The key 'city' exists in the dictionary.\n"
          ]
        }
      ]
    },
    {
      "cell_type": "code",
      "source": [
        "# 26. Write a code to create a list, a tuple, and a dictionary, and print them all.\n",
        "\n",
        "# Creating a list\n",
        "my_list = [1, 2, 3, 4, 5]\n",
        "\n",
        "# Creating a tuple\n",
        "my_tuple = ('apple', 'banana', 'cherry')\n",
        "\n",
        "# Creating a dictionary\n",
        "my_dict = {'name': 'Jeet', 'age': 22, 'city': 'Almora'}\n",
        "\n",
        "# Printing all of them\n",
        "print(\"List:\", my_list)\n",
        "print(\"Tuple:\", my_tuple)\n",
        "print(\"Dictionary:\", my_dict)\n"
      ],
      "metadata": {
        "colab": {
          "base_uri": "https://localhost:8080/"
        },
        "id": "SMHYTWHM5NpS",
        "outputId": "dbc95085-8211-4a83-ad8a-97a4169a72ff"
      },
      "execution_count": 55,
      "outputs": [
        {
          "output_type": "stream",
          "name": "stdout",
          "text": [
            "List: [1, 2, 3, 4, 5]\n",
            "Tuple: ('apple', 'banana', 'cherry')\n",
            "Dictionary: {'name': 'Jeet', 'age': 22, 'city': 'Almora'}\n"
          ]
        }
      ]
    },
    {
      "cell_type": "code",
      "source": [
        "# 27. Write a code to create a list of 5 random numbers between 1 and 100, sort it in ascending order, and print the  result.(replaced)\n",
        "\n",
        "import random\n",
        "\n",
        "# Creating a list of 5 random numbers between 1 and 100\n",
        "random_numbers = random.sample(range(1, 101), 5)\n",
        "\n",
        "# Sorting the list in ascending order\n",
        "random_numbers.sort()\n",
        "\n",
        "# Printing the sorted list\n",
        "print(\"Sorted random numbers:\", random_numbers)\n",
        "\n"
      ],
      "metadata": {
        "colab": {
          "base_uri": "https://localhost:8080/"
        },
        "id": "PmiS7jfc5XIP",
        "outputId": "b6142519-d61e-4b84-a59e-88c806beb482"
      },
      "execution_count": 56,
      "outputs": [
        {
          "output_type": "stream",
          "name": "stdout",
          "text": [
            "Sorted random numbers: [22, 26, 35, 50, 77]\n"
          ]
        }
      ]
    },
    {
      "cell_type": "code",
      "source": [
        "#28. Write a code to create a list with strings and print the element at the third index.\n",
        "# Creating a list of strings\n",
        "fruits = [\"apple\", \"banana\", \"cherry\", \"mango\", \"orange\"]\n",
        "\n",
        "# Printing the element at index 3\n",
        "print(\"Element at index 3:\", fruits[3])\n",
        "\n"
      ],
      "metadata": {
        "colab": {
          "base_uri": "https://localhost:8080/"
        },
        "id": "WveM0-ES6J-w",
        "outputId": "4e1663a4-fb4a-403d-f79b-5c6a06c9767a"
      },
      "execution_count": 57,
      "outputs": [
        {
          "output_type": "stream",
          "name": "stdout",
          "text": [
            "Element at index 3: mango\n"
          ]
        }
      ]
    },
    {
      "cell_type": "code",
      "source": [
        " #29. Write a code to combine two dictionaries into one and print the result.\n",
        "\n",
        " # Two dictionaries\n",
        "dict1 = {'name': 'Jeet', 'age': 22}\n",
        "dict2 = {'city': 'Almora', 'country': 'India'}\n",
        "\n",
        "# Combining the dictionaries\n",
        "combined_dict = {**dict1, **dict2}\n",
        "\n",
        "# Printing the combined dictionary\n",
        "print(\"Combined Dictionary:\", combined_dict)\n",
        "\n"
      ],
      "metadata": {
        "colab": {
          "base_uri": "https://localhost:8080/"
        },
        "id": "5eD_kgdG6VAI",
        "outputId": "351bcd42-91c2-4a8f-a24d-a53863e80760"
      },
      "execution_count": 58,
      "outputs": [
        {
          "output_type": "stream",
          "name": "stdout",
          "text": [
            "Combined Dictionary: {'name': 'Jeet', 'age': 22, 'city': 'Almora', 'country': 'India'}\n"
          ]
        }
      ]
    },
    {
      "cell_type": "code",
      "source": [
        "# 30. Write a code to convert a list of strings into a set.\n",
        "\n",
        "# List of strings\n",
        "fruits_list = [\"apple\", \"banana\", \"cherry\", \"apple\"]\n",
        "\n",
        "# Converting list to set\n",
        "fruits_set = set(fruits_list)\n",
        "\n",
        "# Printing the set\n",
        "print(\"Set:\", fruits_set)\n"
      ],
      "metadata": {
        "colab": {
          "base_uri": "https://localhost:8080/"
        },
        "id": "9yx7hbNb6eH-",
        "outputId": "1c9a6ca8-7475-478f-dffd-1f8d6d3c67e5"
      },
      "execution_count": 59,
      "outputs": [
        {
          "output_type": "stream",
          "name": "stdout",
          "text": [
            "Set: {'banana', 'cherry', 'apple'}\n"
          ]
        }
      ]
    }
  ]
}